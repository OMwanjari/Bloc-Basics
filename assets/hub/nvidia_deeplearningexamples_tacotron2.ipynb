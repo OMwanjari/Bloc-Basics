{
  "cells": [
    {
      "cell_type": "markdown",
      "id": "153156e8",
      "metadata": {
        "id": "153156e8"
      },
      "source": [
        "### This notebook requires a GPU runtime to run.\n",
        "### Please select the menu option \"Runtime\" -> \"Change runtime type\", select \"Hardware Accelerator\" -> \"GPU\" and click \"SAVE\"\n",
        "\n",
        "----------------------------------------------------------------------\n",
        "\n",
        "# Tacotron 2\n",
        "\n",
        "*Author: NVIDIA*\n",
        "\n",
        "**The Tacotron 2 model for generating mel spectrograms from text**\n",
        "\n",
        "<img src=\"https://pytorch.org/assets/images/tacotron2_diagram.png\" alt=\"alt\" width=\"50%\"/>\n",
        "\n",
        "\n",
        "\n",
        "### Model Description\n",
        "\n",
        "The Tacotron 2 and WaveGlow model form a text-to-speech system that enables user to synthesise a natural sounding speech from raw transcripts without any additional prosody information. The Tacotron 2 model produces mel spectrograms from input text using encoder-decoder architecture. WaveGlow (also available via torch.hub) is a flow-based model that consumes the mel spectrograms to generate speech.\n",
        "\n",
        "This implementation of Tacotron 2 model differs from the model described in the paper. Our implementation uses Dropout instead of Zoneout to regularize the LSTM layers.\n",
        "\n",
        "### Example\n",
        "\n",
        "In the example below:\n",
        "- pretrained Tacotron2 and Waveglow models are loaded from torch.hub\n",
        "- Given a tensor representation of the input text (\"Hello world, I missed you so much\"), Tacotron2 generates a Mel spectrogram as shown on the illustration\n",
        "- Waveglow generates sound given the mel spectrogram\n",
        "- the output sound is saved in an 'audio.wav' file\n",
        "\n",
        "To run the example you need some extra python packages installed.\n",
        "These are needed for preprocessing the text and audio, as well as for display and input / output."
      ]
    },
    {
      "cell_type": "code",
      "execution_count": 1,
      "id": "9340e054",
      "metadata": {
        "id": "9340e054",
        "outputId": "eab33f37-062e-490a-fa75-b32e45ee21fa",
        "colab": {
          "base_uri": "https://localhost:8080/"
        }
      },
      "outputs": [
        {
          "output_type": "stream",
          "name": "stdout",
          "text": [
            "Requirement already satisfied: numpy in /usr/local/lib/python3.10/dist-packages (1.26.4)\n",
            "Requirement already satisfied: scipy in /usr/local/lib/python3.10/dist-packages (1.13.1)\n",
            "Requirement already satisfied: librosa in /usr/local/lib/python3.10/dist-packages (0.10.2.post1)\n",
            "Collecting unidecode\n",
            "  Downloading Unidecode-1.3.8-py3-none-any.whl.metadata (13 kB)\n",
            "Requirement already satisfied: inflect in /usr/local/lib/python3.10/dist-packages (7.4.0)\n",
            "Requirement already satisfied: audioread>=2.1.9 in /usr/local/lib/python3.10/dist-packages (from librosa) (3.0.1)\n",
            "Requirement already satisfied: scikit-learn>=0.20.0 in /usr/local/lib/python3.10/dist-packages (from librosa) (1.6.0)\n",
            "Requirement already satisfied: joblib>=0.14 in /usr/local/lib/python3.10/dist-packages (from librosa) (1.4.2)\n",
            "Requirement already satisfied: decorator>=4.3.0 in /usr/local/lib/python3.10/dist-packages (from librosa) (4.4.2)\n",
            "Requirement already satisfied: numba>=0.51.0 in /usr/local/lib/python3.10/dist-packages (from librosa) (0.60.0)\n",
            "Requirement already satisfied: soundfile>=0.12.1 in /usr/local/lib/python3.10/dist-packages (from librosa) (0.12.1)\n",
            "Requirement already satisfied: pooch>=1.1 in /usr/local/lib/python3.10/dist-packages (from librosa) (1.8.2)\n",
            "Requirement already satisfied: soxr>=0.3.2 in /usr/local/lib/python3.10/dist-packages (from librosa) (0.5.0.post1)\n",
            "Requirement already satisfied: typing-extensions>=4.1.1 in /usr/local/lib/python3.10/dist-packages (from librosa) (4.12.2)\n",
            "Requirement already satisfied: lazy-loader>=0.1 in /usr/local/lib/python3.10/dist-packages (from librosa) (0.4)\n",
            "Requirement already satisfied: msgpack>=1.0 in /usr/local/lib/python3.10/dist-packages (from librosa) (1.1.0)\n",
            "Requirement already satisfied: more-itertools>=8.5.0 in /usr/local/lib/python3.10/dist-packages (from inflect) (10.5.0)\n",
            "Requirement already satisfied: typeguard>=4.0.1 in /usr/local/lib/python3.10/dist-packages (from inflect) (4.4.1)\n",
            "Requirement already satisfied: packaging in /usr/local/lib/python3.10/dist-packages (from lazy-loader>=0.1->librosa) (24.2)\n",
            "Requirement already satisfied: llvmlite<0.44,>=0.43.0dev0 in /usr/local/lib/python3.10/dist-packages (from numba>=0.51.0->librosa) (0.43.0)\n",
            "Requirement already satisfied: platformdirs>=2.5.0 in /usr/local/lib/python3.10/dist-packages (from pooch>=1.1->librosa) (4.3.6)\n",
            "Requirement already satisfied: requests>=2.19.0 in /usr/local/lib/python3.10/dist-packages (from pooch>=1.1->librosa) (2.32.3)\n",
            "Requirement already satisfied: threadpoolctl>=3.1.0 in /usr/local/lib/python3.10/dist-packages (from scikit-learn>=0.20.0->librosa) (3.5.0)\n",
            "Requirement already satisfied: cffi>=1.0 in /usr/local/lib/python3.10/dist-packages (from soundfile>=0.12.1->librosa) (1.17.1)\n",
            "Requirement already satisfied: pycparser in /usr/local/lib/python3.10/dist-packages (from cffi>=1.0->soundfile>=0.12.1->librosa) (2.22)\n",
            "Requirement already satisfied: charset-normalizer<4,>=2 in /usr/local/lib/python3.10/dist-packages (from requests>=2.19.0->pooch>=1.1->librosa) (3.4.0)\n",
            "Requirement already satisfied: idna<4,>=2.5 in /usr/local/lib/python3.10/dist-packages (from requests>=2.19.0->pooch>=1.1->librosa) (3.10)\n",
            "Requirement already satisfied: urllib3<3,>=1.21.1 in /usr/local/lib/python3.10/dist-packages (from requests>=2.19.0->pooch>=1.1->librosa) (2.2.3)\n",
            "Requirement already satisfied: certifi>=2017.4.17 in /usr/local/lib/python3.10/dist-packages (from requests>=2.19.0->pooch>=1.1->librosa) (2024.12.14)\n",
            "Downloading Unidecode-1.3.8-py3-none-any.whl (235 kB)\n",
            "   ━━━━━━━━━━━━━━━━━━━━━━━━━━━━━━━━━━━━━━━━ 235.5/235.5 kB 17.5 MB/s eta 0:00:00\n",
            "Installing collected packages: unidecode\n",
            "Successfully installed unidecode-1.3.8\n",
            "Get:1 https://cloud.r-project.org/bin/linux/ubuntu jammy-cran40/ InRelease [3,626 B]\n",
            "Hit:2 https://developer.download.nvidia.com/compute/cuda/repos/ubuntu2204/x86_64  InRelease\n",
            "Hit:3 http://archive.ubuntu.com/ubuntu jammy InRelease\n",
            "Get:4 http://security.ubuntu.com/ubuntu jammy-security InRelease [129 kB]\n",
            "Get:5 http://archive.ubuntu.com/ubuntu jammy-updates InRelease [128 kB]\n",
            "Get:6 https://r2u.stat.illinois.edu/ubuntu jammy InRelease [6,555 B]\n",
            "Hit:7 https://ppa.launchpadcontent.net/deadsnakes/ppa/ubuntu jammy InRelease\n",
            "Hit:8 https://ppa.launchpadcontent.net/graphics-drivers/ppa/ubuntu jammy InRelease\n",
            "Get:9 https://r2u.stat.illinois.edu/ubuntu jammy/main amd64 Packages [2,630 kB]\n",
            "Hit:10 https://ppa.launchpadcontent.net/ubuntugis/ppa/ubuntu jammy InRelease\n",
            "Get:11 http://archive.ubuntu.com/ubuntu jammy-backports InRelease [127 kB]\n",
            "Get:12 http://archive.ubuntu.com/ubuntu jammy-updates/main amd64 Packages [2,830 kB]\n",
            "Get:13 http://security.ubuntu.com/ubuntu jammy-security/main amd64 Packages [2,517 kB]\n",
            "Get:14 http://archive.ubuntu.com/ubuntu jammy-updates/restricted amd64 Packages [3,614 kB]\n",
            "Get:15 http://archive.ubuntu.com/ubuntu jammy-updates/universe amd64 Packages [1,517 kB]\n",
            "Get:16 http://archive.ubuntu.com/ubuntu jammy-backports/main amd64 Packages [81.4 kB]\n",
            "Get:17 http://archive.ubuntu.com/ubuntu jammy-backports/universe amd64 Packages [33.8 kB]\n",
            "Get:18 http://security.ubuntu.com/ubuntu jammy-security/restricted amd64 Packages [3,448 kB]\n",
            "Get:19 https://r2u.stat.illinois.edu/ubuntu jammy/main all Packages [8,566 kB]\n",
            "Get:20 http://security.ubuntu.com/ubuntu jammy-security/universe amd64 Packages [1,226 kB]\n",
            "Fetched 26.9 MB in 4s (6,196 kB/s)\n",
            "Reading package lists...\n",
            "Reading package lists...\n",
            "Building dependency tree...\n",
            "Reading state information...\n",
            "libsndfile1 is already the newest version (1.0.31-2ubuntu0.1).\n",
            "0 upgraded, 0 newly installed, 0 to remove and 50 not upgraded.\n"
          ]
        },
        {
          "output_type": "stream",
          "name": "stderr",
          "text": [
            "W: Skipping acquire of configured file 'main/source/Sources' as repository 'https://r2u.stat.illinois.edu/ubuntu jammy InRelease' does not seem to provide it (sources.list entry misspelt?)\n"
          ]
        }
      ],
      "source": [
        "%%bash\n",
        "pip install numpy scipy librosa unidecode inflect librosa\n",
        "apt-get update\n",
        "apt-get install -y libsndfile1"
      ]
    },
    {
      "cell_type": "markdown",
      "id": "b6427f6f",
      "metadata": {
        "id": "b6427f6f"
      },
      "source": [
        "Load the Tacotron2 model pre-trained on [LJ Speech dataset](https://keithito.com/LJ-Speech-Dataset/) and prepare it for inference:"
      ]
    },
    {
      "cell_type": "code",
      "execution_count": 2,
      "id": "3e204ecb",
      "metadata": {
        "id": "3e204ecb",
        "outputId": "fd65b6b0-c482-41d4-accb-4a8a5fcce204",
        "colab": {
          "base_uri": "https://localhost:8080/"
        }
      },
      "outputs": [
        {
          "output_type": "stream",
          "name": "stderr",
          "text": [
            "/usr/local/lib/python3.10/dist-packages/torch/hub.py:330: UserWarning: You are about to download and run code from an untrusted repository. In a future release, this won't be allowed. To add the repository to your trusted list, change the command to {calling_fn}(..., trust_repo=False) and a command prompt will appear asking for an explicit confirmation of trust, or load(..., trust_repo=True), which will assume that the prompt is to be answered with 'yes'. You can also use load(..., trust_repo='check') which will only prompt for confirmation if the repo is not already trusted. This will eventually be the default behaviour\n",
            "  warnings.warn(\n",
            "Downloading: \"https://github.com/NVIDIA/DeepLearningExamples/zipball/torchhub\" to /root/.cache/torch/hub/torchhub.zip\n",
            "/root/.cache/torch/hub/NVIDIA_DeepLearningExamples_torchhub/PyTorch/Classification/ConvNets/image_classification/models/common.py:13: UserWarning: pytorch_quantization module not found, quantization will not be available\n",
            "  warnings.warn(\n",
            "/root/.cache/torch/hub/NVIDIA_DeepLearningExamples_torchhub/PyTorch/Classification/ConvNets/image_classification/models/efficientnet.py:17: UserWarning: pytorch_quantization module not found, quantization will not be available\n",
            "  warnings.warn(\n",
            "Downloading checkpoint from https://api.ngc.nvidia.com/v2/models/nvidia/tacotron2_pyt_ckpt_amp/versions/19.09.0/files/nvidia_tacotron2pyt_fp16_20190427\n",
            "/root/.cache/torch/hub/NVIDIA_DeepLearningExamples_torchhub/PyTorch/SpeechSynthesis/Tacotron2/tacotron2/entrypoints.py:99: FutureWarning: You are using `torch.load` with `weights_only=False` (the current default value), which uses the default pickle module implicitly. It is possible to construct malicious pickle data which will execute arbitrary code during unpickling (See https://github.com/pytorch/pytorch/blob/main/SECURITY.md#untrusted-models for more details). In a future release, the default value for `weights_only` will be flipped to `True`. This limits the functions that could be executed during unpickling. Arbitrary objects will no longer be allowed to be loaded via this mode unless they are explicitly allowlisted by the user via `torch.serialization.add_safe_globals`. We recommend you start setting `weights_only=True` for any use case where you don't have full control of the loaded file. Please open an issue on GitHub for any issues related to this experimental feature.\n",
            "  ckpt = torch.load(ckpt_file)\n"
          ]
        },
        {
          "output_type": "execute_result",
          "data": {
            "text/plain": [
              "Tacotron2(\n",
              "  (embedding): Embedding(148, 512)\n",
              "  (encoder): Encoder(\n",
              "    (convolutions): ModuleList(\n",
              "      (0-2): 3 x Sequential(\n",
              "        (0): ConvNorm(\n",
              "          (conv): Conv1d(512, 512, kernel_size=(5,), stride=(1,), padding=(2,))\n",
              "        )\n",
              "        (1): BatchNorm1d(512, eps=1e-05, momentum=0.1, affine=True, track_running_stats=True)\n",
              "      )\n",
              "    )\n",
              "    (lstm): LSTM(512, 256, batch_first=True, bidirectional=True)\n",
              "  )\n",
              "  (decoder): Decoder(\n",
              "    (prenet): Prenet(\n",
              "      (layers): ModuleList(\n",
              "        (0): LinearNorm(\n",
              "          (linear_layer): Linear(in_features=80, out_features=256, bias=False)\n",
              "        )\n",
              "        (1): LinearNorm(\n",
              "          (linear_layer): Linear(in_features=256, out_features=256, bias=False)\n",
              "        )\n",
              "      )\n",
              "    )\n",
              "    (attention_rnn): LSTMCell(768, 1024)\n",
              "    (attention_layer): Attention(\n",
              "      (query_layer): LinearNorm(\n",
              "        (linear_layer): Linear(in_features=1024, out_features=128, bias=False)\n",
              "      )\n",
              "      (memory_layer): LinearNorm(\n",
              "        (linear_layer): Linear(in_features=512, out_features=128, bias=False)\n",
              "      )\n",
              "      (v): LinearNorm(\n",
              "        (linear_layer): Linear(in_features=128, out_features=1, bias=False)\n",
              "      )\n",
              "      (location_layer): LocationLayer(\n",
              "        (location_conv): ConvNorm(\n",
              "          (conv): Conv1d(2, 32, kernel_size=(31,), stride=(1,), padding=(15,), bias=False)\n",
              "        )\n",
              "        (location_dense): LinearNorm(\n",
              "          (linear_layer): Linear(in_features=32, out_features=128, bias=False)\n",
              "        )\n",
              "      )\n",
              "    )\n",
              "    (decoder_rnn): LSTMCell(1536, 1024, bias=1)\n",
              "    (linear_projection): LinearNorm(\n",
              "      (linear_layer): Linear(in_features=1536, out_features=80, bias=True)\n",
              "    )\n",
              "    (gate_layer): LinearNorm(\n",
              "      (linear_layer): Linear(in_features=1536, out_features=1, bias=True)\n",
              "    )\n",
              "  )\n",
              "  (postnet): Postnet(\n",
              "    (convolutions): ModuleList(\n",
              "      (0): Sequential(\n",
              "        (0): ConvNorm(\n",
              "          (conv): Conv1d(80, 512, kernel_size=(5,), stride=(1,), padding=(2,))\n",
              "        )\n",
              "        (1): BatchNorm1d(512, eps=1e-05, momentum=0.1, affine=True, track_running_stats=True)\n",
              "      )\n",
              "      (1-3): 3 x Sequential(\n",
              "        (0): ConvNorm(\n",
              "          (conv): Conv1d(512, 512, kernel_size=(5,), stride=(1,), padding=(2,))\n",
              "        )\n",
              "        (1): BatchNorm1d(512, eps=1e-05, momentum=0.1, affine=True, track_running_stats=True)\n",
              "      )\n",
              "      (4): Sequential(\n",
              "        (0): ConvNorm(\n",
              "          (conv): Conv1d(512, 80, kernel_size=(5,), stride=(1,), padding=(2,))\n",
              "        )\n",
              "        (1): BatchNorm1d(80, eps=1e-05, momentum=0.1, affine=True, track_running_stats=True)\n",
              "      )\n",
              "    )\n",
              "  )\n",
              ")"
            ]
          },
          "metadata": {},
          "execution_count": 2
        }
      ],
      "source": [
        "import torch\n",
        "tacotron2 = torch.hub.load('NVIDIA/DeepLearningExamples:torchhub', 'nvidia_tacotron2', model_math='fp16')\n",
        "tacotron2 = tacotron2.to('cuda')\n",
        "tacotron2.eval()"
      ]
    },
    {
      "cell_type": "markdown",
      "id": "eb9eb041",
      "metadata": {
        "id": "eb9eb041"
      },
      "source": [
        "Load pretrained WaveGlow model"
      ]
    },
    {
      "cell_type": "code",
      "execution_count": 3,
      "id": "1ab0184c",
      "metadata": {
        "id": "1ab0184c",
        "outputId": "54e72106-91c8-426e-e8a5-88cb9c7d52a3",
        "colab": {
          "base_uri": "https://localhost:8080/"
        }
      },
      "outputs": [
        {
          "output_type": "stream",
          "name": "stderr",
          "text": [
            "Using cache found in /root/.cache/torch/hub/NVIDIA_DeepLearningExamples_torchhub\n",
            "Downloading checkpoint from https://api.ngc.nvidia.com/v2/models/nvidia/waveglow_ckpt_amp/versions/19.09.0/files/nvidia_waveglowpyt_fp16_20190427\n",
            "/root/.cache/torch/hub/NVIDIA_DeepLearningExamples_torchhub/PyTorch/SpeechSynthesis/Tacotron2/waveglow/entrypoints.py:96: FutureWarning: You are using `torch.load` with `weights_only=False` (the current default value), which uses the default pickle module implicitly. It is possible to construct malicious pickle data which will execute arbitrary code during unpickling (See https://github.com/pytorch/pytorch/blob/main/SECURITY.md#untrusted-models for more details). In a future release, the default value for `weights_only` will be flipped to `True`. This limits the functions that could be executed during unpickling. Arbitrary objects will no longer be allowed to be loaded via this mode unless they are explicitly allowlisted by the user via `torch.serialization.add_safe_globals`. We recommend you start setting `weights_only=True` for any use case where you don't have full control of the loaded file. Please open an issue on GitHub for any issues related to this experimental feature.\n",
            "  ckpt = torch.load(ckpt_file)\n",
            "/usr/local/lib/python3.10/dist-packages/torch/nn/utils/weight_norm.py:143: FutureWarning: `torch.nn.utils.weight_norm` is deprecated in favor of `torch.nn.utils.parametrizations.weight_norm`.\n",
            "  WeightNorm.apply(module, name, dim)\n"
          ]
        },
        {
          "output_type": "execute_result",
          "data": {
            "text/plain": [
              "WaveGlow(\n",
              "  (upsample): ConvTranspose1d(80, 80, kernel_size=(1024,), stride=(256,))\n",
              "  (WN): ModuleList(\n",
              "    (0-3): 4 x WN(\n",
              "      (in_layers): ModuleList(\n",
              "        (0): Conv1d(512, 1024, kernel_size=(3,), stride=(1,), padding=(1,))\n",
              "        (1): Conv1d(512, 1024, kernel_size=(3,), stride=(1,), padding=(2,), dilation=(2,))\n",
              "        (2): Conv1d(512, 1024, kernel_size=(3,), stride=(1,), padding=(4,), dilation=(4,))\n",
              "        (3): Conv1d(512, 1024, kernel_size=(3,), stride=(1,), padding=(8,), dilation=(8,))\n",
              "        (4): Conv1d(512, 1024, kernel_size=(3,), stride=(1,), padding=(16,), dilation=(16,))\n",
              "        (5): Conv1d(512, 1024, kernel_size=(3,), stride=(1,), padding=(32,), dilation=(32,))\n",
              "        (6): Conv1d(512, 1024, kernel_size=(3,), stride=(1,), padding=(64,), dilation=(64,))\n",
              "        (7): Conv1d(512, 1024, kernel_size=(3,), stride=(1,), padding=(128,), dilation=(128,))\n",
              "      )\n",
              "      (res_skip_layers): ModuleList(\n",
              "        (0-6): 7 x Conv1d(512, 1024, kernel_size=(1,), stride=(1,))\n",
              "        (7): Conv1d(512, 512, kernel_size=(1,), stride=(1,))\n",
              "      )\n",
              "      (cond_layers): ModuleList(\n",
              "        (0-7): 8 x Conv1d(640, 1024, kernel_size=(1,), stride=(1,))\n",
              "      )\n",
              "      (start): Conv1d(4, 512, kernel_size=(1,), stride=(1,))\n",
              "      (end): Conv1d(512, 8, kernel_size=(1,), stride=(1,))\n",
              "    )\n",
              "    (4-7): 4 x WN(\n",
              "      (in_layers): ModuleList(\n",
              "        (0): Conv1d(512, 1024, kernel_size=(3,), stride=(1,), padding=(1,))\n",
              "        (1): Conv1d(512, 1024, kernel_size=(3,), stride=(1,), padding=(2,), dilation=(2,))\n",
              "        (2): Conv1d(512, 1024, kernel_size=(3,), stride=(1,), padding=(4,), dilation=(4,))\n",
              "        (3): Conv1d(512, 1024, kernel_size=(3,), stride=(1,), padding=(8,), dilation=(8,))\n",
              "        (4): Conv1d(512, 1024, kernel_size=(3,), stride=(1,), padding=(16,), dilation=(16,))\n",
              "        (5): Conv1d(512, 1024, kernel_size=(3,), stride=(1,), padding=(32,), dilation=(32,))\n",
              "        (6): Conv1d(512, 1024, kernel_size=(3,), stride=(1,), padding=(64,), dilation=(64,))\n",
              "        (7): Conv1d(512, 1024, kernel_size=(3,), stride=(1,), padding=(128,), dilation=(128,))\n",
              "      )\n",
              "      (res_skip_layers): ModuleList(\n",
              "        (0-6): 7 x Conv1d(512, 1024, kernel_size=(1,), stride=(1,))\n",
              "        (7): Conv1d(512, 512, kernel_size=(1,), stride=(1,))\n",
              "      )\n",
              "      (cond_layers): ModuleList(\n",
              "        (0-7): 8 x Conv1d(640, 1024, kernel_size=(1,), stride=(1,))\n",
              "      )\n",
              "      (start): Conv1d(3, 512, kernel_size=(1,), stride=(1,))\n",
              "      (end): Conv1d(512, 6, kernel_size=(1,), stride=(1,))\n",
              "    )\n",
              "    (8-11): 4 x WN(\n",
              "      (in_layers): ModuleList(\n",
              "        (0): Conv1d(512, 1024, kernel_size=(3,), stride=(1,), padding=(1,))\n",
              "        (1): Conv1d(512, 1024, kernel_size=(3,), stride=(1,), padding=(2,), dilation=(2,))\n",
              "        (2): Conv1d(512, 1024, kernel_size=(3,), stride=(1,), padding=(4,), dilation=(4,))\n",
              "        (3): Conv1d(512, 1024, kernel_size=(3,), stride=(1,), padding=(8,), dilation=(8,))\n",
              "        (4): Conv1d(512, 1024, kernel_size=(3,), stride=(1,), padding=(16,), dilation=(16,))\n",
              "        (5): Conv1d(512, 1024, kernel_size=(3,), stride=(1,), padding=(32,), dilation=(32,))\n",
              "        (6): Conv1d(512, 1024, kernel_size=(3,), stride=(1,), padding=(64,), dilation=(64,))\n",
              "        (7): Conv1d(512, 1024, kernel_size=(3,), stride=(1,), padding=(128,), dilation=(128,))\n",
              "      )\n",
              "      (res_skip_layers): ModuleList(\n",
              "        (0-6): 7 x Conv1d(512, 1024, kernel_size=(1,), stride=(1,))\n",
              "        (7): Conv1d(512, 512, kernel_size=(1,), stride=(1,))\n",
              "      )\n",
              "      (cond_layers): ModuleList(\n",
              "        (0-7): 8 x Conv1d(640, 1024, kernel_size=(1,), stride=(1,))\n",
              "      )\n",
              "      (start): Conv1d(2, 512, kernel_size=(1,), stride=(1,))\n",
              "      (end): Conv1d(512, 4, kernel_size=(1,), stride=(1,))\n",
              "    )\n",
              "  )\n",
              "  (convinv): ModuleList(\n",
              "    (0-3): 4 x Invertible1x1Conv(\n",
              "      (conv): Conv1d(8, 8, kernel_size=(1,), stride=(1,), bias=False)\n",
              "    )\n",
              "    (4-7): 4 x Invertible1x1Conv(\n",
              "      (conv): Conv1d(6, 6, kernel_size=(1,), stride=(1,), bias=False)\n",
              "    )\n",
              "    (8-11): 4 x Invertible1x1Conv(\n",
              "      (conv): Conv1d(4, 4, kernel_size=(1,), stride=(1,), bias=False)\n",
              "    )\n",
              "  )\n",
              ")"
            ]
          },
          "metadata": {},
          "execution_count": 3
        }
      ],
      "source": [
        "waveglow = torch.hub.load('NVIDIA/DeepLearningExamples:torchhub', 'nvidia_waveglow', model_math='fp16')\n",
        "waveglow = waveglow.remove_weightnorm(waveglow)\n",
        "waveglow = waveglow.to('cuda')\n",
        "waveglow.eval()"
      ]
    },
    {
      "cell_type": "markdown",
      "id": "2f412d15",
      "metadata": {
        "id": "2f412d15"
      },
      "source": [
        "Now, let's make the model say:"
      ]
    },
    {
      "cell_type": "code",
      "execution_count": 4,
      "id": "944e7d37",
      "metadata": {
        "id": "944e7d37"
      },
      "outputs": [],
      "source": [
        "text = \"thala for a reason\""
      ]
    },
    {
      "cell_type": "markdown",
      "id": "75ebcab1",
      "metadata": {
        "id": "75ebcab1"
      },
      "source": [
        "Format the input using utility methods"
      ]
    },
    {
      "cell_type": "code",
      "execution_count": 5,
      "id": "cdb4f263",
      "metadata": {
        "id": "cdb4f263",
        "outputId": "81a0668c-b323-45cd-84b6-efce53eb1907",
        "colab": {
          "base_uri": "https://localhost:8080/"
        }
      },
      "outputs": [
        {
          "output_type": "stream",
          "name": "stderr",
          "text": [
            "Using cache found in /root/.cache/torch/hub/NVIDIA_DeepLearningExamples_torchhub\n",
            "/root/.cache/torch/hub/NVIDIA_DeepLearningExamples_torchhub/PyTorch/SpeechSynthesis/Tacotron2/tacotron2/text/__init__.py:74: SyntaxWarning: \"is not\" with a literal. Did you mean \"!=\"?\n",
            "  return s in _symbol_to_id and s is not '_' and s is not '~'\n",
            "/root/.cache/torch/hub/NVIDIA_DeepLearningExamples_torchhub/PyTorch/SpeechSynthesis/Tacotron2/tacotron2/text/__init__.py:74: SyntaxWarning: \"is not\" with a literal. Did you mean \"!=\"?\n",
            "  return s in _symbol_to_id and s is not '_' and s is not '~'\n"
          ]
        }
      ],
      "source": [
        "utils = torch.hub.load('NVIDIA/DeepLearningExamples:torchhub', 'nvidia_tts_utils')\n",
        "sequences, lengths = utils.prepare_input_sequence([text])"
      ]
    },
    {
      "cell_type": "markdown",
      "id": "211ddd79",
      "metadata": {
        "id": "211ddd79"
      },
      "source": [
        "Run the chained models:"
      ]
    },
    {
      "cell_type": "code",
      "execution_count": 6,
      "id": "b346100b",
      "metadata": {
        "id": "b346100b"
      },
      "outputs": [],
      "source": [
        "with torch.no_grad():\n",
        "    mel, _, _ = tacotron2.infer(sequences, lengths)\n",
        "    audio = waveglow.infer(mel)\n",
        "audio_numpy = audio[0].data.cpu().numpy()\n",
        "rate = 22050"
      ]
    },
    {
      "cell_type": "markdown",
      "id": "36b282c8",
      "metadata": {
        "id": "36b282c8"
      },
      "source": [
        "You can write it to a file and listen to it"
      ]
    },
    {
      "cell_type": "code",
      "execution_count": 7,
      "id": "bb0fb4ef",
      "metadata": {
        "id": "bb0fb4ef"
      },
      "outputs": [],
      "source": [
        "from scipy.io.wavfile import write\n",
        "write(\"audio.wav\", rate, audio_numpy)"
      ]
    },
    {
      "cell_type": "markdown",
      "id": "2ee559dd",
      "metadata": {
        "id": "2ee559dd"
      },
      "source": [
        "Alternatively, play it right away in a notebook with IPython widgets"
      ]
    },
    {
      "cell_type": "code",
      "execution_count": 8,
      "id": "51f38a85",
      "metadata": {
        "id": "51f38a85",
        "outputId": "ae0c358d-9b89-4cc8-f2a1-2ce39efdb513",
        "colab": {
          "base_uri": "https://localhost:8080/",
          "height": 75
        }
      },
      "outputs": [
        {
          "output_type": "execute_result",
          "data": {
            "text/plain": [
              "<IPython.lib.display.Audio object>"
            ],
            "text/html": [
              "\n",
              "                <audio  controls=\"controls\" >\n",
              "                    <source src=\"data:audio/wav;base64,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\" type=\"audio/wav\" />\n",
              "                    Your browser does not support the audio element.\n",
              "                </audio>\n",
              "              "
            ]
          },
          "metadata": {},
          "execution_count": 8
        }
      ],
      "source": [
        "from IPython.display import Audio\n",
        "Audio(audio_numpy, rate=rate)"
      ]
    },
    {
      "cell_type": "markdown",
      "id": "95328087",
      "metadata": {
        "id": "95328087"
      },
      "source": [
        "### Details\n",
        "For detailed information on model input and output, training recipies, inference and performance visit: [github](https://github.com/NVIDIA/DeepLearningExamples/tree/master/PyTorch/SpeechSynthesis/Tacotron2) and/or [NGC](https://ngc.nvidia.com/catalog/resources/nvidia:tacotron_2_and_waveglow_for_pytorch)\n",
        "\n",
        "### References\n",
        "\n",
        " - [Natural TTS Synthesis by Conditioning WaveNet on Mel Spectrogram Predictions](https://arxiv.org/abs/1712.05884)\n",
        " - [WaveGlow: A Flow-based Generative Network for Speech Synthesis](https://arxiv.org/abs/1811.00002)\n",
        " - [Tacotron2 and WaveGlow on NGC](https://ngc.nvidia.com/catalog/resources/nvidia:tacotron_2_and_waveglow_for_pytorch)\n",
        " - [Tacotron2 and Waveglow on github](https://github.com/NVIDIA/DeepLearningExamples/tree/master/PyTorch/SpeechSynthesis/Tacotron2)"
      ]
    }
  ],
  "metadata": {
    "colab": {
      "provenance": [],
      "gpuType": "T4"
    },
    "language_info": {
      "name": "python"
    },
    "kernelspec": {
      "name": "python3",
      "display_name": "Python 3"
    },
    "accelerator": "GPU"
  },
  "nbformat": 4,
  "nbformat_minor": 5
}